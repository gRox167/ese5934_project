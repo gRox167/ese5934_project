{
 "cells": [
  {
   "cell_type": "code",
   "execution_count": 4,
   "metadata": {},
   "outputs": [],
   "source": [
    "# Import necessary libraries and modules\n",
    "import numpy as np  # Assuming numpy is used for array operations\n",
    "from sigpy import backend, util\n",
    "#from backend import get_device  # Importing get_device function from backend_module"
   ]
  },
  {
   "cell_type": "code",
   "execution_count": 5,
   "metadata": {},
   "outputs": [],
   "source": [
    "# Define a base class Alg for iterative algorithms\n",
    "class Alg(object):\n",
    "    \n",
    "    # Constructor to initialize the maximum number of iterations\n",
    "    def __init__(self, max_iter):\n",
    "        self.max_iter = max_iter  # Maximum number of iterations\n",
    "        self.iter = 0  # Current iteration\n",
    "\n",
    "    # Abstract method for performing one update step\n",
    "    def _update(self):\n",
    "        raise NotImplementedError\n",
    "\n",
    "    # Method to check if the algorithm is done\n",
    "    def _done(self):\n",
    "        return self.iter >= self.max_iter\n",
    "\n",
    "    # Method to perform one update step and increment iteration count\n",
    "    def update(self):\n",
    "        self._update()\n",
    "        self.iter += 1\n",
    "\n",
    "    # Method to check if the algorithm is done\n",
    "    def done(self):\n",
    "        return self._done()"
   ]
  },
  {
   "cell_type": "code",
   "execution_count": null,
   "metadata": {},
   "outputs": [],
   "source": [
    "##In the provided code, the preconditioner (P) is an optional parameter that can be passed to the ConjugateGradient class during initialization. The purpose of a preconditioner in iterative methods like conjugate gradient is to improve the convergence properties of the algorithm by transforming the system of equations into a more suitable form.\n",
    "\n",
    "##Here's what the preconditioner is doing in the code:\n",
    "\n",
    "##Initialization: In the constructor of the ConjugateGradient class, if a preconditioner is provided (P is not None), the input residual r is transformed using the preconditioner to obtain z. This transformed residual z is used as the initial search direction p. If no preconditioner is provided, z is set equal to r.\n",
    "##Update Step: During each iteration of the conjugate gradient algorithm, if a preconditioner is provided, the residual r is updated using the preconditioned residual z. This update is performed before computing the new search direction p."
   ]
  },
  {
   "cell_type": "code",
   "execution_count": 7,
   "metadata": {},
   "outputs": [],
   "source": [
    "\n",
    "\n",
    "\n",
    "\n",
    "# Define a class ConjugateGradient that inherits from Alg\n",
    "class ConjugateGradient(Alg):\n",
    "    \n",
    "    # Constructor for ConjugateGradient class\n",
    "    def __init__(self, A, b, x, P=None, max_iter=100, tol=0):\n",
    "        # Initialize parameters\n",
    "        self.A = A  # Linear operator A\n",
    "        self.b = b  # Observation\n",
    "        self.P = P  # Preconditioner\n",
    "        self.x = x  # Variable\n",
    "        self.tol = tol  # Tolerance for stopping condition\n",
    "        self.device = backend.get_device(x)  # Get the device (e.g., CPU or GPU) for the variable x\n",
    "        with self.device:\n",
    "            xp = self.device.xp  # Get the backend (e.g., numpy or cupy) for the device\n",
    "            # Compute the initial residual\n",
    "            self.r = b - self.A(self.x)\n",
    "\n",
    "            # Apply preconditioner if provided\n",
    "            if self.P is None:\n",
    "                z = self.r\n",
    "            else:\n",
    "                z = self.P(self.r)\n",
    "\n",
    "            # Initialize search direction\n",
    "            if max_iter > 1:\n",
    "                self.p = z.copy()\n",
    "            else:\n",
    "                self.p = z\n",
    "\n",
    "            # Initialize variables for conjugate gradient\n",
    "            self.not_positive_definite = False\n",
    "            self.rzold = xp.real(xp.vdot(self.r, z))\n",
    "            self.resid = self.rzold.item() ** 0.5\n",
    "\n",
    "            super().__init__(max_iter)  # Call the constructor of the base class\n",
    "\n",
    "    # Method to perform one update step of the conjugate gradient algorithm\n",
    "    def _update(self):\n",
    "        with self.device:\n",
    "            xp = self.device.xp\n",
    "            Ap = self.A(self.p)  # Compute A times the search direction p\n",
    "            pAp = xp.real(xp.vdot(self.p, Ap)).item()  # Compute dot product of p and Ap\n",
    "            if pAp <= 0:  # Check if pAp is not positive definite\n",
    "                self.not_positive_definite = True\n",
    "                return\n",
    "\n",
    "            # Compute step size alpha\n",
    "            self.alpha = self.rzold / pAp\n",
    "            # Update solution\n",
    "            util.axpy(self.x, self.alpha, self.p)\n",
    "            if self.iter < self.max_iter - 1:\n",
    "                # Update residual\n",
    "                util.axpy(self.r, -self.alpha, Ap)\n",
    "                # Apply preconditioner if provided\n",
    "                if self.P is not None:\n",
    "                    z = self.P(self.r)\n",
    "                else:\n",
    "                    z = self.r\n",
    "\n",
    "                rznew = xp.real(xp.vdot(self.r, z))\n",
    "                beta = rznew / self.rzold\n",
    "                util.xpay(self.p, beta, z)\n",
    "                self.rzold = rznew\n",
    "\n",
    "            self.resid = self.rzold.item() ** 0.5\n",
    "\n",
    "    # Method to check if the algorithm is done\n",
    "    def _done(self):\n",
    "        return (\n",
    "            self.iter >= self.max_iter\n",
    "            or self.not_positive_definite\n",
    "            or self.resid <= self.tol\n",
    "        )\n"
   ]
  },
  {
   "cell_type": "markdown",
   "metadata": {},
   "source": [
    "This code snippet defines an iterative algorithm using the conjugate gradient method to solve a linear system of equations Ax=b, where A is a Hermitian linear operator,b is the observation, and \n",
    "\n",
    "x is the variable to be solved for. The algorithm can be used iteratively until a termination condition is met."
   ]
  },
  {
   "cell_type": "markdown",
   "metadata": {},
   "source": [
    "This example initializes the linear operator \n",
    "\n",
    "A, observation \n",
    "\n",
    "b, initial guess \n",
    "\n",
    "x, and preconditioner \n",
    "\n",
    "P. Then, it creates an instance of the ConjugateGradient solver and iteratively updates the solution until a termination condition is met. Finally, it prints the final solution x.\n",
    "\n",
    "\n",
    "\n"
   ]
  },
  {
   "cell_type": "code",
   "execution_count": 8,
   "metadata": {},
   "outputs": [
    {
     "ename": "UFuncTypeError",
     "evalue": "Cannot cast ufunc 'add' output from dtype('float64') to dtype('int64') with casting rule 'same_kind'",
     "output_type": "error",
     "traceback": [
      "\u001b[0;31m---------------------------------------------------------------------------\u001b[0m",
      "\u001b[0;31mUFuncTypeError\u001b[0m                            Traceback (most recent call last)",
      "\u001b[1;32m/home/usr/razzaquer/Desktop/ese5934_project/Sigpy_CGM_wihtout_Reg_withComments1.ipynb Cell 7\u001b[0m line \u001b[0;36m2\n\u001b[1;32m     <a href='vscode-notebook-cell:/home/usr/razzaquer/Desktop/ese5934_project/Sigpy_CGM_wihtout_Reg_withComments1.ipynb#W5sZmlsZQ%3D%3D?line=21'>22</a>\u001b[0m \u001b[39m# Perform iterative updates until convergence or maximum iterations reached\u001b[39;00m\n\u001b[1;32m     <a href='vscode-notebook-cell:/home/usr/razzaquer/Desktop/ese5934_project/Sigpy_CGM_wihtout_Reg_withComments1.ipynb#W5sZmlsZQ%3D%3D?line=22'>23</a>\u001b[0m \u001b[39mwhile\u001b[39;00m \u001b[39mnot\u001b[39;00m solver\u001b[39m.\u001b[39mdone():\n\u001b[0;32m---> <a href='vscode-notebook-cell:/home/usr/razzaquer/Desktop/ese5934_project/Sigpy_CGM_wihtout_Reg_withComments1.ipynb#W5sZmlsZQ%3D%3D?line=23'>24</a>\u001b[0m     solver\u001b[39m.\u001b[39;49mupdate()\n\u001b[1;32m     <a href='vscode-notebook-cell:/home/usr/razzaquer/Desktop/ese5934_project/Sigpy_CGM_wihtout_Reg_withComments1.ipynb#W5sZmlsZQ%3D%3D?line=25'>26</a>\u001b[0m \u001b[39m# Print the final solution\u001b[39;00m\n\u001b[1;32m     <a href='vscode-notebook-cell:/home/usr/razzaquer/Desktop/ese5934_project/Sigpy_CGM_wihtout_Reg_withComments1.ipynb#W5sZmlsZQ%3D%3D?line=26'>27</a>\u001b[0m \u001b[39mprint\u001b[39m(\u001b[39m\"\u001b[39m\u001b[39mFinal solution x:\u001b[39m\u001b[39m\"\u001b[39m, solver\u001b[39m.\u001b[39mx)\n",
      "\u001b[1;32m/home/usr/razzaquer/Desktop/ese5934_project/Sigpy_CGM_wihtout_Reg_withComments1.ipynb Cell 7\u001b[0m line \u001b[0;36m1\n\u001b[1;32m     <a href='vscode-notebook-cell:/home/usr/razzaquer/Desktop/ese5934_project/Sigpy_CGM_wihtout_Reg_withComments1.ipynb#W5sZmlsZQ%3D%3D?line=17'>18</a>\u001b[0m \u001b[39mdef\u001b[39;00m \u001b[39mupdate\u001b[39m(\u001b[39mself\u001b[39m):\n\u001b[0;32m---> <a href='vscode-notebook-cell:/home/usr/razzaquer/Desktop/ese5934_project/Sigpy_CGM_wihtout_Reg_withComments1.ipynb#W5sZmlsZQ%3D%3D?line=18'>19</a>\u001b[0m     \u001b[39mself\u001b[39;49m\u001b[39m.\u001b[39;49m_update()\n\u001b[1;32m     <a href='vscode-notebook-cell:/home/usr/razzaquer/Desktop/ese5934_project/Sigpy_CGM_wihtout_Reg_withComments1.ipynb#W5sZmlsZQ%3D%3D?line=19'>20</a>\u001b[0m     \u001b[39mself\u001b[39m\u001b[39m.\u001b[39miter \u001b[39m+\u001b[39m\u001b[39m=\u001b[39m \u001b[39m1\u001b[39m\n",
      "\u001b[1;32m/home/usr/razzaquer/Desktop/ese5934_project/Sigpy_CGM_wihtout_Reg_withComments1.ipynb Cell 7\u001b[0m line \u001b[0;36m5\n\u001b[1;32m     <a href='vscode-notebook-cell:/home/usr/razzaquer/Desktop/ese5934_project/Sigpy_CGM_wihtout_Reg_withComments1.ipynb#W5sZmlsZQ%3D%3D?line=47'>48</a>\u001b[0m \u001b[39mself\u001b[39m\u001b[39m.\u001b[39malpha \u001b[39m=\u001b[39m \u001b[39mself\u001b[39m\u001b[39m.\u001b[39mrzold \u001b[39m/\u001b[39m pAp\n\u001b[1;32m     <a href='vscode-notebook-cell:/home/usr/razzaquer/Desktop/ese5934_project/Sigpy_CGM_wihtout_Reg_withComments1.ipynb#W5sZmlsZQ%3D%3D?line=48'>49</a>\u001b[0m \u001b[39m# Update solution\u001b[39;00m\n\u001b[0;32m---> <a href='vscode-notebook-cell:/home/usr/razzaquer/Desktop/ese5934_project/Sigpy_CGM_wihtout_Reg_withComments1.ipynb#W5sZmlsZQ%3D%3D?line=49'>50</a>\u001b[0m util\u001b[39m.\u001b[39;49maxpy(\u001b[39mself\u001b[39;49m\u001b[39m.\u001b[39;49mx, \u001b[39mself\u001b[39;49m\u001b[39m.\u001b[39;49malpha, \u001b[39mself\u001b[39;49m\u001b[39m.\u001b[39;49mp)\n\u001b[1;32m     <a href='vscode-notebook-cell:/home/usr/razzaquer/Desktop/ese5934_project/Sigpy_CGM_wihtout_Reg_withComments1.ipynb#W5sZmlsZQ%3D%3D?line=50'>51</a>\u001b[0m \u001b[39mif\u001b[39;00m \u001b[39mself\u001b[39m\u001b[39m.\u001b[39miter \u001b[39m<\u001b[39m \u001b[39mself\u001b[39m\u001b[39m.\u001b[39mmax_iter \u001b[39m-\u001b[39m \u001b[39m1\u001b[39m:\n\u001b[1;32m     <a href='vscode-notebook-cell:/home/usr/razzaquer/Desktop/ese5934_project/Sigpy_CGM_wihtout_Reg_withComments1.ipynb#W5sZmlsZQ%3D%3D?line=51'>52</a>\u001b[0m     \u001b[39m# Update residual\u001b[39;00m\n\u001b[1;32m     <a href='vscode-notebook-cell:/home/usr/razzaquer/Desktop/ese5934_project/Sigpy_CGM_wihtout_Reg_withComments1.ipynb#W5sZmlsZQ%3D%3D?line=52'>53</a>\u001b[0m     util\u001b[39m.\u001b[39maxpy(\u001b[39mself\u001b[39m\u001b[39m.\u001b[39mr, \u001b[39m-\u001b[39m\u001b[39mself\u001b[39m\u001b[39m.\u001b[39malpha, Ap)\n",
      "File \u001b[0;32m~/.local/lib/python3.8/site-packages/sigpy/util.py:455\u001b[0m, in \u001b[0;36maxpy\u001b[0;34m(y, a, x)\u001b[0m\n\u001b[1;32m    446\u001b[0m \u001b[39mdef\u001b[39;00m \u001b[39maxpy\u001b[39m(y, a, x):\n\u001b[1;32m    447\u001b[0m \u001b[39m    \u001b[39m\u001b[39m\"\"\"Compute y = a * x + y.\u001b[39;00m\n\u001b[1;32m    448\u001b[0m \n\u001b[1;32m    449\u001b[0m \u001b[39m    Args:\u001b[39;00m\n\u001b[0;32m   (...)\u001b[0m\n\u001b[1;32m    453\u001b[0m \n\u001b[1;32m    454\u001b[0m \u001b[39m    \"\"\"\u001b[39;00m\n\u001b[0;32m--> 455\u001b[0m     y \u001b[39m+\u001b[39m\u001b[39m=\u001b[39m a \u001b[39m*\u001b[39m x\n",
      "\u001b[0;31mUFuncTypeError\u001b[0m: Cannot cast ufunc 'add' output from dtype('float64') to dtype('int64') with casting rule 'same_kind'"
     ]
    }
   ],
   "source": [
    "# Assume backend_module contains the necessary backend functions like get_device\n",
    "#import backend_module\n",
    "# Assume util module contains necessary utility functions like axpy, xpay\n",
    "#import util\n",
    "\n",
    "# Dummy implementation of Linear Operator A (can be replaced with actual implementation)\n",
    "def linear_operator_A(x):\n",
    "    return x\n",
    "\n",
    "# Dummy observation b (can be replaced with actual observation)\n",
    "b = np.array([1, 2, 3])\n",
    "\n",
    "# Dummy initial guess for the variable x (can be replaced with actual initial guess)\n",
    "x = np.zeros_like(b)\n",
    "\n",
    "# Dummy preconditioner P (can be replaced with actual preconditioner if available)\n",
    "P = None\n",
    "\n",
    "# Create an instance of ConjugateGradient solver\n",
    "solver = ConjugateGradient(linear_operator_A, b, x, P)\n",
    "\n",
    "# Perform iterative updates until convergence or maximum iterations reached\n",
    "while not solver.done():\n",
    "    solver.update()\n",
    "\n",
    "# Print the final solution\n",
    "print(\"Final solution x:\", solver.x)\n"
   ]
  },
  {
   "cell_type": "code",
   "execution_count": 10,
   "metadata": {},
   "outputs": [
    {
     "data": {
      "image/png": "[encoded data removed]",
      "text/plain": [
       "<Figure size 400x400 with 1 Axes>"
      ]
     },
     "metadata": {},
     "output_type": "display_data"
    },
    {
     "data": {
      "image/png": "[encoded data removed]",
      "text/plain": [
       "<Figure size 800x800 with 1 Axes>"
      ]
     },
     "metadata": {},
     "output_type": "display_data"
    }
   ],
   "source": [
    "import numpy as np\n",
    "import matplotlib.pyplot as plt\n",
    "\n",
    "# Dummy image dimensions\n",
    "image_size = 128\n",
    "\n",
    "# Generate a synthetic image (e.g., a square)\n",
    "image = np.zeros((image_size, image_size))\n",
    "image[image_size//4:3*image_size//4, image_size//4:3*image_size//4] = 1\n",
    "\n",
    "# Display the original image\n",
    "plt.figure(figsize=(4, 4))\n",
    "plt.imshow(image, cmap='gray')\n",
    "plt.title('Original Image')\n",
    "plt.axis('off')\n",
    "plt.show()\n",
    "\n",
    "# Create synthetic undersampled k-space data\n",
    "# For simplicity, we'll perform random undersampling\n",
    "undersampling_factor = 4\n",
    "k_space = np.fft.fftshift(np.fft.fft2(image))  # Compute FFT of the image\n",
    "undersampled_k_space = k_space.copy()\n",
    "undersampled_k_space[np.random.rand(*k_space.shape) > 1/undersampling_factor] = 0  # Random undersampling\n",
    "\n",
    "# Define linear operator A to perform inverse FFT\n",
    "def linear_operator_A(x):\n",
    "    return np.fft.ifft2(np.fft.ifftshift(x))\n",
    "\n",
    "# Observation is the undersampled k-space data\n",
    "b = undersampled_k_space\n",
    "\n",
    "# Initial guess for the image (all zeros)\n",
    "x_initial_guess = np.zeros_like(image)\n",
    "\n",
    "# Dummy preconditioner (identity matrix)\n",
    "def preconditioner(x):\n",
    "    return x\n",
    "\n",
    "# Maximum number of iterations\n",
    "max_iterations = 100\n",
    "\n",
    "# Tolerance for stopping condition\n",
    "tolerance = 1e-6\n",
    "\n",
    "# Perform image reconstruction using conjugate gradient method\n",
    "#from your_module import ConjugateGradient  # Import ConjugateGradient from your module\n",
    "solver = ConjugateGradient(linear_operator_A, b, x_initial_guess, P=preconditioner,\n",
    "                           max_iter=max_iterations, tol=tolerance)\n",
    "while not solver.done():\n",
    "    solver.update()\n",
    "\n",
    "# Get the reconstructed image\n",
    "reconstructed_image = solver.x.real  # Take real part to remove numerical artifacts\n",
    "\n",
    "# Display the reconstructed image\n",
    "plt.figure(figsize=(8, 8))\n",
    "plt.imshow(reconstructed_image, cmap='gray')\n",
    "plt.title('Reconstructed Image')\n",
    "plt.axis('off')\n",
    "plt.show()\n"
   ]
  },
  {
   "cell_type": "markdown",
   "metadata": {},
   "source": [
    "In this example:\n",
    "\n",
    "We generate a synthetic image (a square) and display it.\n",
    "We perform random undersampling in k-space to simulate the undersampled data.\n",
    "We define a linear operator linear_operator_A that performs the inverse FFT.\n",
    "The observation b is the undersampled k-space data.\n",
    "We define an initial guess for the image, a dummy preconditioner, maximum iterations, and a tolerance for the conjugate gradient solver.\n",
    "We use the conjugate gradient method to reconstruct the image from the undersampled k-space data.\n",
    "Finally, we display the reconstructed image."
   ]
  },
  {
   "cell_type": "code",
   "execution_count": null,
   "metadata": {},
   "outputs": [],
   "source": []
  }
 ],
 "metadata": {
  "kernelspec": {
   "display_name": "Python 3",
   "language": "python",
   "name": "python3"
  },
  "language_info": {
   "codemirror_mode": {
    "name": "ipython",
    "version": 3
   },
   "file_extension": ".py",
   "mimetype": "text/x-python",
   "name": "python",
   "nbconvert_exporter": "python",
   "pygments_lexer": "ipython3",
   "version": "3.8.10"
  }
 },
 "nbformat": 4,
 "nbformat_minor": 2
}
