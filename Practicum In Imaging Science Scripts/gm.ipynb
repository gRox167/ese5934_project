{
 "cells": [
  {
   "cell_type": "code",
   "execution_count": 1,
   "metadata": {},
   "outputs": [],
   "source": [
    "# Assignment 2, Problem 4\n",
    "# Gradient Method (GM)\n",
    "# U. Kamilov, Z. Zou\n",
    "# Computational Imaging Group (CIG), WashU\n",
    "\n",
    "# Import useful libraries\n",
    "import numpy as np\n",
    "import scipy.io as sio\n",
    "import matplotlib.pyplot as plt"
   ]
  },
  {
   "cell_type": "code",
   "execution_count": 2,
   "metadata": {},
   "outputs": [],
   "source": [
    "# Load the dataset\n",
    "data = sio.loadmat('dataset.mat')"
   ]
  },
  {
   "cell_type": "code",
   "execution_count": 3,
   "metadata": {},
   "outputs": [],
   "source": [
    "# Access data in the dataset\n",
    "A, b = data['A'], data['b']\n",
    "m, n = A.shape"
   ]
  },
  {
   "cell_type": "code",
   "execution_count": 4,
   "metadata": {},
   "outputs": [],
   "source": [
    "# Define the function and the gradient\n",
    "evaluateFunc = lambda x: (1/2)*np.linalg.norm(A.dot(x)-b)**2\n",
    "evaluateGrad = lambda x: A.T.dot(A.dot(x)-b)"
   ]
  },
  {
   "cell_type": "code",
   "execution_count": 5,
   "metadata": {},
   "outputs": [],
   "source": [
    "# Parameters of the gradient method\n",
    "xInit = np.zeros((n, 1)) # zero initialization\n",
    "stepSize = 1e-4 # step size\n",
    "maxIter = 200 # maximum number of iterations"
   ]
  },
  {
   "cell_type": "code",
   "execution_count": 6,
   "metadata": {},
   "outputs": [],
   "source": [
    "# Initialize\n",
    "x = xInit\n",
    "objVals = np.zeros((maxIter, 1)) # keep track of cost function values"
   ]
  },
  {
   "cell_type": "code",
   "execution_count": 7,
   "metadata": {},
   "outputs": [],
   "source": [
    "for iter in range(maxIter):\n",
    "    # gradient at x\n",
    "    grad = evaluateGrad(x)\n",
    "    \n",
    "    # update\n",
    "    xNext = x - stepSize*grad\n",
    "    \n",
    "    # evaluate the objective\n",
    "    funcNext = evaluateFunc(xNext)\n",
    "    \n",
    "    # store the objective\n",
    "    objVals[iter] = funcNext\n",
    "    \n",
    "    # print('[%d/%d] [step: %.1e] [objective: %.4e]' % (iter, maxIter, stepSize, objVals[iter]))\n",
    "    \n",
    "    # update x\n",
    "    x = xNext"
   ]
  },
  {
   "cell_type": "code",
   "execution_count": 8,
   "metadata": {},
   "outputs": [
    {
     "data": {
      "image/png": "[encoded data removed]",
      "text/plain": [
       "<Figure size 432x288 with 1 Axes>"
      ]
     },
     "metadata": {
      "needs_background": "light"
     },
     "output_type": "display_data"
    }
   ],
   "source": [
    "# visualize results\n",
    "plt.semilogy(np.arange(maxIter), objVals, 'b-', linewidth=2)\n",
    "plt.grid(True)\n",
    "plt.axis('tight')\n",
    "plt.xlabel('iteration', fontsize = 20)\n",
    "plt.ylabel('objective', fontsize = 20)\n",
    "plt.title('cost: %.4e' % objVals[-1], fontsize = 20)\n",
    "plt.xlim([1, maxIter])\n",
    "plt.draw()\n",
    "plt.show()"
   ]
  },
  {
   "cell_type": "code",
   "execution_count": null,
   "metadata": {},
   "outputs": [],
   "source": []
  }
 ],
 "metadata": {
  "kernelspec": {
   "display_name": "Python 3 (ipykernel)",
   "language": "python",
   "name": "python3"
  },
  "language_info": {
   "codemirror_mode": {
    "name": "ipython",
    "version": 3
   },
   "file_extension": ".py",
   "mimetype": "text/x-python",
   "name": "python",
   "nbconvert_exporter": "python",
   "pygments_lexer": "ipython3",
   "version": "3.9.7"
  }
 },
 "nbformat": 4,
 "nbformat_minor": 2
}
