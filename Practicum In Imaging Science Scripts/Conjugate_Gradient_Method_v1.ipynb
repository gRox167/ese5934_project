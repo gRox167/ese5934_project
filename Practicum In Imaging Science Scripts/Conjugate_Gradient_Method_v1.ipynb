{
 "cells": [
  {
   "cell_type": "code",
   "execution_count": 19,
   "metadata": {},
   "outputs": [],
   "source": [
    "#Importing the Python Modules\n",
    "import numpy as np\n",
    "import matplotlib.pyplot as plt\n"
   ]
  },
  {
   "cell_type": "markdown",
   "metadata": {},
   "source": [
    "##\n",
    "    Solves the linear system Ax = b using the Conjugate Gradient method.\n",
    "    \n",
    "    Parameters:\n",
    "        A (numpy.ndarray): The coefficient matrix (must be symmetric positive definite).\n",
    "        b (numpy.ndarray): The right-hand side vector.\n",
    "        x0 (numpy.ndarray): Initial guess for the solution.\n",
    "        tol (float): Tolerance for convergence.\n",
    "        max_iter (int): Maximum number of iterations allowed.\n",
    "        \n",
    "    Returns:\n",
    "        x (numpy.ndarray): Solution vector.\n",
    "        num_iter (int): Number of iterations used.\n",
    "##"
   ]
  },
  {
   "cell_type": "code",
   "execution_count": 17,
   "metadata": {},
   "outputs": [
    {
     "data": {
      "text/plain": [
       "array([[0, 0, 1, 0, 0],\n",
       "       [0, 1, 1, 1, 0],\n",
       "       [1, 1, 1, 1, 1],\n",
       "       [0, 1, 1, 1, 0],\n",
       "       [0, 0, 1, 0, 0]])"
      ]
     },
     "execution_count": 17,
     "metadata": {},
     "output_type": "execute_result"
    }
   ],
   "source": [
    "\n",
    "# Considering a simple k-space data represented as a 5x5 matrix \n",
    "k_space = np.array([\n",
    "    [0, 0, 1, 0, 0],\n",
    "    [0, 1, 1, 1, 0],\n",
    "    [1, 1, 1, 1, 1],\n",
    "    [0, 1, 1, 1, 0],\n",
    "    [0, 0, 1, 0, 0]\n",
    "])\n",
    "k_space"
   ]
  },
  {
   "cell_type": "code",
   "execution_count": 6,
   "metadata": {},
   "outputs": [
    {
     "data": {
      "text/plain": [
       "array([[ 0.02755374,  0.01275066,  1.06248974,  0.04446209, -0.16945097],\n",
       "       [-0.07126796,  0.86288304,  0.8770379 ,  1.16816411,  0.03377878],\n",
       "       [ 1.06105264,  0.94780587,  0.94556643,  0.93243785,  0.93928366],\n",
       "       [-0.04467376,  1.08314983,  1.16650487,  0.91375691, -0.10497297],\n",
       "       [-0.02187859,  0.02093842,  0.97896994, -0.11662035,  0.00895421]])"
      ]
     },
     "execution_count": 6,
     "metadata": {},
     "output_type": "execute_result"
    }
   ],
   "source": [
    "# Adding Noise to the k-space data to represent undersampled k-space data\n",
    "\n",
    "noisy_k_space = k_space + 0.1 * np.random.randn(*k_space.shape)\n",
    "noisy_k_space"
   ]
  },
  {
   "cell_type": "code",
   "execution_count": 20,
   "metadata": {},
   "outputs": [
    {
     "data": {
      "text/plain": [
       "(25, 25)"
      ]
     },
     "execution_count": 20,
     "metadata": {},
     "output_type": "execute_result"
    }
   ],
   "source": [
    "# Defining the system matrix H(identity matrix for simplicity)-->It must be a symmetric positive definite\n",
    "H = np.eye(noisy_k_space.size)\n",
    "H.shape"
   ]
  },
  {
   "cell_type": "code",
   "execution_count": 13,
   "metadata": {},
   "outputs": [
    {
     "data": {
      "text/plain": [
       "array([ 0.02755374,  0.01275066,  1.06248974,  0.04446209, -0.16945097,\n",
       "       -0.07126796,  0.86288304,  0.8770379 ,  1.16816411,  0.03377878,\n",
       "        1.06105264,  0.94780587,  0.94556643,  0.93243785,  0.93928366,\n",
       "       -0.04467376,  1.08314983,  1.16650487,  0.91375691, -0.10497297,\n",
       "       -0.02187859,  0.02093842,  0.97896994, -0.11662035,  0.00895421])"
      ]
     },
     "execution_count": 13,
     "metadata": {},
     "output_type": "execute_result"
    }
   ],
   "source": [
    "# Flatten the noisy k-space data into a vector (y in Hx = y)\n",
    "y = noisy_k_space.flatten()\n",
    "y\n"
   ]
  },
  {
   "cell_type": "code",
   "execution_count": 11,
   "metadata": {},
   "outputs": [],
   "source": [
    "# Initial guess for the solution (can be zeros or any other initialization)\n",
    "x0 = np.zeros_like(y)\n",
    "x0\n",
    "tol=1e-6 #error limit\n",
    "max_iter=1000"
   ]
  },
  {
   "cell_type": "code",
   "execution_count": 12,
   "metadata": {},
   "outputs": [
    {
     "data": {
      "text/plain": [
       "array([0., 0., 0., 0., 0., 0., 0., 0., 0., 0., 0., 0., 0., 0., 0., 0., 0.,\n",
       "       0., 0., 0., 0., 0., 0., 0., 0.])"
      ]
     },
     "execution_count": 12,
     "metadata": {},
     "output_type": "execute_result"
    }
   ],
   "source": [
    "x = x0.copy()\n",
    "x"
   ]
  },
  {
   "cell_type": "code",
   "execution_count": 15,
   "metadata": {},
   "outputs": [
    {
     "data": {
      "text/plain": [
       "array([0., 0., 0., 0., 0., 0., 0., 0., 0., 0., 0., 0., 0., 0., 0., 0., 0.,\n",
       "       0., 0., 0., 0., 0., 0., 0., 0.])"
      ]
     },
     "execution_count": 15,
     "metadata": {},
     "output_type": "execute_result"
    }
   ],
   "source": [
    "np.dot(H, x)"
   ]
  },
  {
   "cell_type": "code",
   "execution_count": 48,
   "metadata": {},
   "outputs": [],
   "source": [
    "# Defining the Gradient and Distance Vectors\n",
    "r = np.dot(H, x)-y #This is the Gradient Vector\n",
    "p = -r\n",
    "#rsold = np.dot(r, r)"
   ]
  },
  {
   "cell_type": "code",
   "execution_count": 47,
   "metadata": {},
   "outputs": [
    {
     "data": {
      "text/plain": [
       "array([ 0.02755374,  0.01275066,  1.06248974,  0.04446209, -0.16945097,\n",
       "       -0.07126796,  0.86288304,  0.8770379 ,  1.16816411,  0.03377878,\n",
       "        1.06105264,  0.94780587,  0.94556643,  0.93243785,  0.93928366,\n",
       "       -0.04467376,  1.08314983,  1.16650487,  0.91375691, -0.10497297,\n",
       "       -0.02187859,  0.02093842,  0.97896994, -0.11662035,  0.00895421])"
      ]
     },
     "execution_count": 47,
     "metadata": {},
     "output_type": "execute_result"
    }
   ],
   "source": [
    "r"
   ]
  },
  {
   "cell_type": "code",
   "execution_count": 57,
   "metadata": {},
   "outputs": [
    {
     "ename": "ValueError",
     "evalue": "The truth value of an array with more than one element is ambiguous. Use a.any() or a.all()",
     "output_type": "error",
     "traceback": [
      "\u001b[0;31m---------------------------------------------------------------------------\u001b[0m",
      "\u001b[0;31mValueError\u001b[0m                                Traceback (most recent call last)",
      "\u001b[1;32m/data/wheelock/data1/people/Rezwana/Rezwana_EEG_DOT/20080521AK_PSD/Conjugate_Gradient_Method_v1.ipynb Cell 12\u001b[0m line \u001b[0;36m7\n\u001b[1;32m      <a href='vscode-notebook-cell:/data/wheelock/data1/people/Rezwana/Rezwana_EEG_DOT/20080521AK_PSD/Conjugate_Gradient_Method_v1.ipynb#X26sZmlsZQ%3D%3D?line=4'>5</a>\u001b[0m x\u001b[39m=\u001b[39mx \u001b[39m+\u001b[39m (alpha\u001b[39m*\u001b[39mp)\n\u001b[1;32m      <a href='vscode-notebook-cell:/data/wheelock/data1/people/Rezwana/Rezwana_EEG_DOT/20080521AK_PSD/Conjugate_Gradient_Method_v1.ipynb#X26sZmlsZQ%3D%3D?line=5'>6</a>\u001b[0m r\u001b[39m=\u001b[39mnp\u001b[39m.\u001b[39mdot(H, x)\u001b[39m-\u001b[39my\n\u001b[0;32m----> <a href='vscode-notebook-cell:/data/wheelock/data1/people/Rezwana/Rezwana_EEG_DOT/20080521AK_PSD/Conjugate_Gradient_Method_v1.ipynb#X26sZmlsZQ%3D%3D?line=6'>7</a>\u001b[0m \u001b[39mif\u001b[39;00m np\u001b[39m.\u001b[39msqrt(r) \u001b[39m<\u001b[39m tol:\n\u001b[1;32m      <a href='vscode-notebook-cell:/data/wheelock/data1/people/Rezwana/Rezwana_EEG_DOT/20080521AK_PSD/Conjugate_Gradient_Method_v1.ipynb#X26sZmlsZQ%3D%3D?line=7'>8</a>\u001b[0m  \u001b[39mbreak\u001b[39;00m\n\u001b[1;32m      <a href='vscode-notebook-cell:/data/wheelock/data1/people/Rezwana/Rezwana_EEG_DOT/20080521AK_PSD/Conjugate_Gradient_Method_v1.ipynb#X26sZmlsZQ%3D%3D?line=8'>9</a>\u001b[0m Beta_num\u001b[39m=\u001b[39mnp\u001b[39m.\u001b[39mdot(np\u001b[39m.\u001b[39mtranspose(r),np\u001b[39m.\u001b[39mdot(H,p))\n",
      "\u001b[0;31mValueError\u001b[0m: The truth value of an array with more than one element is ambiguous. Use a.any() or a.all()"
     ]
    }
   ],
   "source": [
    "for k in range(max_iter):\n",
    "  alpha_num=-(np.dot((np.transpose(r)),p))\n",
    "  alpha_den=np.dot(np.transpose(p),(np.dot(H,p)))\n",
    "  alpha=alpha_num/alpha_den #Finding Step Parameter\n",
    "  x=x + (alpha*p)\n",
    "  r=np.dot(H, x)-y\n",
    "  if np.sqrt(r) < tol:\n",
    "   break\n",
    "  Beta_num=np.dot(np.transpose(r),np.dot(H,p))\n",
    "  Beta_den=np.dot(np.transpose(p),np.dot(H,p))\n",
    "  Beta=Beta_num/Beta_den\n",
    "  p=-r+ (Beta*p)"
   ]
  },
  {
   "cell_type": "code",
   "execution_count": null,
   "metadata": {},
   "outputs": [],
   "source": [
    "x"
   ]
  },
  {
   "cell_type": "code",
   "execution_count": null,
   "metadata": {},
   "outputs": [],
   "source": [
    "k+1"
   ]
  },
  {
   "cell_type": "code",
   "execution_count": 54,
   "metadata": {},
   "outputs": [
    {
     "data": {
      "text/plain": [
       "array([-0., -0., -0., -0.,  0.,  0., -0., -0., -0., -0., -0., -0., -0.,\n",
       "       -0., -0.,  0., -0., -0., -0.,  0.,  0., -0., -0.,  0., -0.])"
      ]
     },
     "execution_count": 54,
     "metadata": {},
     "output_type": "execute_result"
    }
   ],
   "source": [
    "p"
   ]
  },
  {
   "cell_type": "code",
   "execution_count": 52,
   "metadata": {},
   "outputs": [
    {
     "data": {
      "text/plain": [
       "0.0"
      ]
     },
     "execution_count": 52,
     "metadata": {},
     "output_type": "execute_result"
    }
   ],
   "source": [
    "Beta"
   ]
  },
  {
   "cell_type": "code",
   "execution_count": 58,
   "metadata": {},
   "outputs": [],
   "source": [
    " # Reshape the solution vector into a 2D image\n",
    "reconstructed_image = x.reshape(image.shape)\n",
    "\n"
   ]
  },
  {
   "cell_type": "code",
   "execution_count": null,
   "metadata": {},
   "outputs": [],
   "source": []
  },
  {
   "cell_type": "code",
   "execution_count": 60,
   "metadata": {},
   "outputs": [
    {
     "data": {
      "text/plain": [
       "ArithmeticError"
      ]
     },
     "execution_count": 60,
     "metadata": {},
     "output_type": "execute_result"
    }
   ],
   "source": []
  },
  {
   "cell_type": "code",
   "execution_count": 24,
   "metadata": {},
   "outputs": [
    {
     "ename": "NameError",
     "evalue": "name 'reconstructed_image' is not defined",
     "output_type": "error",
     "traceback": [
      "\u001b[0;31m---------------------------------------------------------------------------\u001b[0m",
      "\u001b[0;31mNameError\u001b[0m                                 Traceback (most recent call last)",
      "\u001b[1;32m/data/wheelock/data1/people/Rezwana/Rezwana_EEG_DOT/20080521AK_PSD/Conjugate_Gradient_Method_v1.ipynb Cell 15\u001b[0m line \u001b[0;36m1\n\u001b[1;32m      <a href='vscode-notebook-cell:/data/wheelock/data1/people/Rezwana/Rezwana_EEG_DOT/20080521AK_PSD/Conjugate_Gradient_Method_v1.ipynb#W4sZmlsZQ%3D%3D?line=7'>8</a>\u001b[0m plt\u001b[39m.\u001b[39mtitle(\u001b[39m'\u001b[39m\u001b[39mNoisy Image\u001b[39m\u001b[39m'\u001b[39m)\n\u001b[1;32m      <a href='vscode-notebook-cell:/data/wheelock/data1/people/Rezwana/Rezwana_EEG_DOT/20080521AK_PSD/Conjugate_Gradient_Method_v1.ipynb#W4sZmlsZQ%3D%3D?line=8'>9</a>\u001b[0m plt\u001b[39m.\u001b[39msubplot(\u001b[39m1\u001b[39m, \u001b[39m3\u001b[39m, \u001b[39m3\u001b[39m)\n\u001b[0;32m---> <a href='vscode-notebook-cell:/data/wheelock/data1/people/Rezwana/Rezwana_EEG_DOT/20080521AK_PSD/Conjugate_Gradient_Method_v1.ipynb#W4sZmlsZQ%3D%3D?line=9'>10</a>\u001b[0m plt\u001b[39m.\u001b[39mimshow(reconstructed_image, cmap\u001b[39m=\u001b[39m\u001b[39m'\u001b[39m\u001b[39mgray\u001b[39m\u001b[39m'\u001b[39m)\n\u001b[1;32m     <a href='vscode-notebook-cell:/data/wheelock/data1/people/Rezwana/Rezwana_EEG_DOT/20080521AK_PSD/Conjugate_Gradient_Method_v1.ipynb#W4sZmlsZQ%3D%3D?line=10'>11</a>\u001b[0m plt\u001b[39m.\u001b[39mtitle(\u001b[39m'\u001b[39m\u001b[39mReconstructed Image (CG)\u001b[39m\u001b[39m'\u001b[39m)\n\u001b[1;32m     <a href='vscode-notebook-cell:/data/wheelock/data1/people/Rezwana/Rezwana_EEG_DOT/20080521AK_PSD/Conjugate_Gradient_Method_v1.ipynb#W4sZmlsZQ%3D%3D?line=11'>12</a>\u001b[0m plt\u001b[39m.\u001b[39mshow()\n",
      "\u001b[0;31mNameError\u001b[0m: name 'reconstructed_image' is not defined"
     ]
    },
    {
     "data": {
      "image/png": "[encoded data removed]",
      "text/plain": [
       "<Figure size 1000x500 with 3 Axes>"
      ]
     },
     "metadata": {},
     "output_type": "display_data"
    }
   ],
   "source": [
    "# Plot the original image, noisy image, and reconstructed image\n",
    "plt.figure(figsize=(10, 5))\n",
    "plt.subplot(1, 3, 1)\n",
    "plt.imshow(image, cmap='gray')\n",
    "plt.title('Original Image')\n",
    "plt.subplot(1, 3, 2)\n",
    "plt.imshow(noisy_image, cmap='gray')\n",
    "plt.title('Noisy Image')\n",
    "plt.subplot(1, 3, 3)\n",
    "plt.imshow(reconstructed_image, cmap='gray')\n",
    "plt.title('Reconstructed Image (CG)')\n",
    "plt.show()\n",
    "\n",
    "print(\"Number of iterations:\", num_iter)\n"
   ]
  },
  {
   "cell_type": "code",
   "execution_count": 25,
   "metadata": {},
   "outputs": [
    {
     "data": {
      "image/png": "[encoded data removed]",
      "text/plain": [
       "<Figure size 1000x500 with 3 Axes>"
      ]
     },
     "metadata": {},
     "output_type": "display_data"
    },
    {
     "name": "stdout",
     "output_type": "stream",
     "text": [
      "Number of iterations: 1\n"
     ]
    }
   ],
   "source": [
    "# Code from the Website\n",
    "\n",
    "import numpy as np\n",
    "import matplotlib.pyplot as plt\n",
    "\n",
    "def conjugate_gradient(A, b, x0, tol=1e-6, max_iter=1000):\n",
    "    \"\"\"\n",
    "    Solves the linear system Ax = b using the Conjugate Gradient method.\n",
    "    \n",
    "    Parameters:\n",
    "        A (numpy.ndarray): The coefficient matrix (must be symmetric positive definite).\n",
    "        b (numpy.ndarray): The right-hand side vector.\n",
    "        x0 (numpy.ndarray): Initial guess for the solution.\n",
    "        tol (float): Tolerance for convergence.\n",
    "        max_iter (int): Maximum number of iterations allowed.\n",
    "        \n",
    "    Returns:\n",
    "        x (numpy.ndarray): Solution vector.\n",
    "        num_iter (int): Number of iterations used.\n",
    "    \"\"\"\n",
    "    x = x0.copy()\n",
    "    r = b - np.dot(A, x)\n",
    "    p = r.copy()\n",
    "    rsold = np.dot(r, r)\n",
    "    \n",
    "    for i in range(max_iter):\n",
    "        Ap = np.dot(A, p)\n",
    "        alpha = rsold / np.dot(p, Ap)\n",
    "        x = x + alpha * p\n",
    "        r = r - alpha * Ap\n",
    "        rsnew = np.dot(r, r)\n",
    "        if np.sqrt(rsnew) < tol:\n",
    "            break\n",
    "        beta = rsnew / rsold\n",
    "        p = r + beta * p\n",
    "        rsold = rsnew\n",
    "    \n",
    "    return x, i+1\n",
    "\n",
    "# Example: Image reconstruction\n",
    "# Suppose we have a simple image represented as a 5x5 matrix\n",
    "image = np.array([\n",
    "    [0, 0, 1, 0, 0],\n",
    "    [0, 1, 1, 1, 0],\n",
    "    [1, 1, 1, 1, 1],\n",
    "    [0, 1, 1, 1, 0],\n",
    "    [0, 0, 1, 0, 0]\n",
    "])\n",
    "\n",
    "# Generate a noisy version of the image\n",
    "noisy_image = image + 0.1 * np.random.randn(*image.shape)\n",
    "\n",
    "# Define the system matrix A (identity matrix for simplicity)\n",
    "A = np.eye(image.size)\n",
    "\n",
    "# Flatten the noisy image into a vector (b in Ax = b)\n",
    "b = noisy_image.flatten()\n",
    "\n",
    "# Initial guess for the solution (can be zeros or some other initialization)\n",
    "x0 = np.zeros_like(b)\n",
    "\n",
    "# Solve the system using conjugate gradient method\n",
    "reconstructed_image, num_iter = conjugate_gradient(A, b, x0)\n",
    "\n",
    "# Reshape the solution vector into a 2D image\n",
    "reconstructed_image = reconstructed_image.reshape(image.shape)\n",
    "\n",
    "# Plot the original image, noisy image, and reconstructed image\n",
    "plt.figure(figsize=(10, 5))\n",
    "plt.subplot(1, 3, 1)\n",
    "plt.imshow(image, cmap='gray')\n",
    "plt.title('Original Image')\n",
    "plt.subplot(1, 3, 2)\n",
    "plt.imshow(noisy_image, cmap='gray')\n",
    "plt.title('Noisy Image')\n",
    "plt.subplot(1, 3, 3)\n",
    "plt.imshow(reconstructed_image, cmap='gray')\n",
    "plt.title('Reconstructed Image (CG)')\n",
    "plt.show()\n",
    "\n",
    "print(\"Number of iterations:\", num_iter)\n"
   ]
  }
 ],
 "metadata": {
  "kernelspec": {
   "display_name": "Python 3",
   "language": "python",
   "name": "python3"
  },
  "language_info": {
   "codemirror_mode": {
    "name": "ipython",
    "version": 3
   },
   "file_extension": ".py",
   "mimetype": "text/x-python",
   "name": "python",
   "nbconvert_exporter": "python",
   "pygments_lexer": "ipython3",
   "version": "3.8.10"
  }
 },
 "nbformat": 4,
 "nbformat_minor": 2
}
